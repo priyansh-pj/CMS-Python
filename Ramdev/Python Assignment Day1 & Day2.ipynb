{
 "cells": [
  {
   "cell_type": "code",
   "execution_count": 7,
   "id": "7d4873ca",
   "metadata": {},
   "outputs": [
    {
     "name": "stdout",
     "output_type": "stream",
     "text": [
      "1\n",
      "<class 'int'>\n",
      "2.5\n",
      "<class 'float'>\n",
      "Ramdev\n",
      "<class 'str'>\n",
      "['apple', 'cherry', 1]\n",
      "<class 'list'>\n",
      "{1, 2, 3}\n",
      "<class 'set'>\n",
      "('herry', 'pranjal')\n",
      "<class 'tuple'>\n",
      "{'name': 'pranjal', 'branch': 'CSE-IML', 'semester': 4}\n",
      "<class 'dict'>\n",
      "(3+7j)\n",
      "<class 'complex'>\n",
      "Hello-World\n"
     ]
    }
   ],
   "source": [
    "var_a =1\n",
    "print(var_a)\n",
    "print(type(var_a))\n",
    "\n",
    "b = 2.5\n",
    "print(b)\n",
    "print(type(b))\n",
    "\n",
    "c=\"Ramdev\"\n",
    "print(c)\n",
    "print(type(c))\n",
    "\n",
    "d = [\"apple\",\"cherry\",1]\n",
    "print(d)\n",
    "print(type(d))\n",
    "\n",
    "g = {1,2,3}\n",
    "print(g)\n",
    "print(type(g))\n",
    "\n",
    "f = (\"herry\",\"pranjal\")\n",
    "print(f)\n",
    "print(type(f))\n",
    "\n",
    "r = {\"name\":\"pranjal\",\n",
    "     \"branch\":\"CSE-IML\",\"semester\": 4}\n",
    "print(r)\n",
    "print(type(r))\n",
    "\n",
    "x =3+7j\n",
    "print(x)\n",
    "print(type(x))\n",
    "\n",
    "print(\"Hello\",end=\"-\")\n",
    "print(\"World\")\n",
    "\n"
   ]
  },
  {
   "cell_type": "code",
   "execution_count": 8,
   "id": "94b37b37",
   "metadata": {},
   "outputs": [
    {
     "name": "stdout",
     "output_type": "stream",
     "text": [
      "b is greater\n"
     ]
    }
   ],
   "source": [
    "a = 3\n",
    "b = 4\n",
    "if 3<4:\n",
    "  print(\"b is greater\")\n",
    "else:\n",
    " print(\"a is greater\")"
   ]
  },
  {
   "cell_type": "markdown",
   "id": "e8d609ea",
   "metadata": {},
   "source": [
    "# count vowels in word"
   ]
  },
  {
   "cell_type": "code",
   "execution_count": 12,
   "id": "5b84c0d1",
   "metadata": {},
   "outputs": [
    {
     "name": "stdout",
     "output_type": "stream",
     "text": [
      "Enter the string :Ramdev Lodhi\n",
      "Total vowels are :4\n"
     ]
    }
   ],
   "source": [
    "String = input('Enter the string :')\n",
    "count = 0\n",
    "String = String.lower()\n",
    "for i in String:\n",
    "    if i == 'a' or i == 'e' or i == 'i' or i == 'o' or i == 'u':\n",
    "        count+=1\n",
    "if count == 0:\n",
    "    print('No vowels found')\n",
    "else:\n",
    "    print('Total vowels are :' + str(count))\n"
   ]
  },
  {
   "cell_type": "code",
   "execution_count": 13,
   "id": "68cd0c3d",
   "metadata": {},
   "outputs": [
    {
     "name": "stdout",
     "output_type": "stream",
     "text": [
      "enter string:vedmaR\n",
      "Ramdev\n"
     ]
    }
   ],
   "source": [
    "txt = input(\"enter string:\")\n",
    "print(txt [::-1])\n"
   ]
  },
  {
   "cell_type": "code",
   "execution_count": 14,
   "id": "03e54184",
   "metadata": {},
   "outputs": [
    {
     "name": "stdout",
     "output_type": "stream",
     "text": [
      "enter the no.17\n",
      "17 is a prime number\n"
     ]
    }
   ],
   "source": [
    "num =int(input(\"enter the no.\"))\n",
    "# If given number is greater than 1\n",
    "if num > 1:\n",
    "    # Iterate from 2 to n / 2\n",
    "    for i in range(2, int(num/2)+1):\n",
    "        # If num is divisible by any number between\n",
    "        # 2 and n / 2, it is not prime\n",
    "        if (num % i) == 0:\n",
    "            print(num, \"is not a prime number\")\n",
    "            break\n",
    "    else:\n",
    "        print(num, \"is a prime number\")\n",
    "else:\n",
    "    print(num, \"is not a prime number\")"
   ]
  },
  {
   "cell_type": "code",
   "execution_count": 22,
   "id": "ed5e4a2c",
   "metadata": {},
   "outputs": [
    {
     "name": "stdout",
     "output_type": "stream",
     "text": [
      "Enter a number: 5\n",
      "The factorial of 5 is 1\n",
      "The factorial of 5 is 2\n",
      "The factorial of 5 is 6\n",
      "The factorial of 5 is 24\n",
      "The factorial of 5 is 120\n",
      "None\n"
     ]
    }
   ],
   "source": [
    "def factorial():\n",
    "\n",
    "    factorial = 1    \n",
    "    if num < 0:    \n",
    "        print(\" Factorial does not exist for negative numbers\")    \n",
    "    elif num == 0:    \n",
    "        print(\"The factorial of 0 is 1\")    \n",
    "    else:    \n",
    "        for i in range(1,num + 1):    \n",
    "            factorial = factorial*i    \n",
    "            print(\"The factorial of\",num,\"is\",factorial)\n",
    "num = int(input(\"Enter a number: \"))    \n",
    "print(factorial())"
   ]
  },
  {
   "cell_type": "code",
   "execution_count": 29,
   "id": "ded8b873",
   "metadata": {},
   "outputs": [
    {
     "name": "stdout",
     "output_type": "stream",
     "text": [
      "random number: 77\n"
     ]
    }
   ],
   "source": [
    "import random\n",
    "random_number = random.randint(1,100)\n",
    "print(\"random number:\",random_number)"
   ]
  },
  {
   "cell_type": "markdown",
   "id": "cc917100",
   "metadata": {},
   "source": [
    "# Programe By defining the function\n"
   ]
  },
  {
   "cell_type": "code",
   "execution_count": 34,
   "id": "3d8bea89",
   "metadata": {},
   "outputs": [
    {
     "name": "stdout",
     "output_type": "stream",
     "text": [
      "Enter a word: Ramdev Lodhi\n",
      "Number of vowels: 4\n",
      "Enter a string: vedmaR\n",
      "Reversed string: Ramdev\n",
      "Enter a number: 17\n",
      "17 is a prime number.\n",
      "Enter a number: 5\n",
      "Factorial of 5 is 120\n",
      "I have chosen a number between 1 and 10.\n",
      "Can you guess it?\n",
      "Enter your guess: 4\n",
      "Too low. Try again.\n",
      "Enter your guess: 7\n",
      "Too low. Try again.\n",
      "Enter your guess: 10\n",
      "Too high. Try again.\n",
      "Enter your guess: 9\n",
      "Congratulations! You guessed the number 9 in 4 attempts.\n"
     ]
    }
   ],
   "source": [
    "def count_vowels(word):\n",
    "    vowels = \"aeiouAEIOU\"\n",
    "    vowel_count = 0\n",
    "    for char in word:\n",
    "        if char in vowels:\n",
    "            vowel_count += 1\n",
    "    return vowel_count\n",
    "\n",
    "word = input(\"Enter a word: \")\n",
    "result = count_vowels(word)\n",
    "print(\"Number of vowels:\", result)\n",
    "\n",
    "def reverse_string(input_string):\n",
    "    return input_string[::-1]\n",
    "\n",
    "word = input(\"Enter a string: \")\n",
    "result = reverse_string(word)\n",
    "print(\"Reversed string:\", result)\n",
    "\n",
    "def is_prime(number):\n",
    "    if number <= 1:\n",
    "        return False\n",
    "    for i in range(2, int(number**0.5) + 1):\n",
    "        if number % i == 0:\n",
    "            return False\n",
    "    return True\n",
    "\n",
    "number = int(input(\"Enter a number: \"))\n",
    "if is_prime(number):\n",
    "    print(number, \"is a prime number.\")\n",
    "else:\n",
    "    print(number, \"is not a prime number.\")\n",
    "    \n",
    "def factorial(number):\n",
    "    if number < 0:\n",
    "        return None\n",
    "    if number == 0:\n",
    "        return 1\n",
    "    result = 1\n",
    "    for i in range(1, number + 1):\n",
    "        result *= i\n",
    "    return result\n",
    "\n",
    "number = int(input(\"Enter a number: \"))\n",
    "result = factorial(number)\n",
    "if result is None:\n",
    "    print(\"Factorial cannot be calculated for negative numbers.\")\n",
    "else:\n",
    "    print(\"Factorial of\", number, \"is\", result)\n",
    "    \n",
    "import random\n",
    "\n",
    "def guess_number(secret_number):\n",
    "    attempts = 0\n",
    "    while True:\n",
    "        guess = int(input(\"Enter your guess: \"))\n",
    "        attempts += 1\n",
    "\n",
    "        if guess == secret_number:\n",
    "            print(\"Congratulations! You guessed the number\", secret_number, \"in\", attempts, \"attempts.\")\n",
    "            break\n",
    "        elif guess < secret_number:\n",
    "            print(\"Too low. Try again.\")\n",
    "        else:\n",
    "            print(\"Too high. Try again.\")\n",
    "\n",
    "secret_number = random.randint(1, 10)\n",
    "\n",
    "print(\"I have chosen a number between 1 and 10.\")\n",
    "print(\"Can you guess it?\")\n",
    "\n",
    "guess_number(secret_number)"
   ]
  },
  {
   "cell_type": "code",
   "execution_count": 30,
   "id": "252c6fd4",
   "metadata": {},
   "outputs": [
    {
     "name": "stdout",
     "output_type": "stream",
     "text": [
      "enter a word: ramdev lodhi\n",
      "Number of vowels:  4\n"
     ]
    }
   ],
   "source": [
    "\n",
    "class VowelCounter:\n",
    "    def __init__(self, word):\n",
    "        self.word = word.lower()\n",
    "        self.vowels = ['a', 'e', 'i', 'o', 'u']\n",
    "\n",
    "    def count_vowels(self):\n",
    "        count = 0\n",
    "        for char in self.word:\n",
    "            if char in self.vowels:\n",
    "                count += 1\n",
    "        return count\n",
    "word = input(\"enter a word: \")\n",
    "counter=VowelCounter(word)\n",
    "vowel_count = counter.count_vowels()\n",
    "print(\"Number of vowels: \",vowel_count)"
   ]
  },
  {
   "cell_type": "code",
   "execution_count": 6,
   "id": "9b7b915b",
   "metadata": {},
   "outputs": [
    {
     "name": "stdout",
     "output_type": "stream",
     "text": [
      "Enter a string: ram\n",
      "Reversed string: mar\n"
     ]
    }
   ],
   "source": [
    "class Stringreverser:\n",
    "    def __init__(self,word):\n",
    "        self.word = word\n",
    "      \n",
    "\n",
    "    def reverse_string(self):\n",
    "        reversed_string = self.word[::-1]\n",
    "        return reversed_string\n",
    "\n",
    "word = input(\"Enter a string: \")\n",
    "reverser = Stringreverser(word)\n",
    "reversed_string = reverser.reverse_string()\n",
    "print(\"Reversed string:\", reversed_string )"
   ]
  },
  {
   "cell_type": "code",
   "execution_count": 17,
   "id": "d0b25858",
   "metadata": {},
   "outputs": [
    {
     "name": "stdout",
     "output_type": "stream",
     "text": [
      "Enter a number: 17\n",
      "17 is a prime number.\n"
     ]
    }
   ],
   "source": [
    "class Primechecker:\n",
    "    def __init__(self,num):\n",
    "        self.num = num\n",
    "    def is_prime(self):\n",
    "        if self.num <=1:\n",
    "            return False\n",
    "        for i in range(2, int(self.num/2) + 1):\n",
    "            if self.num % i == 0:\n",
    "                return False\n",
    "        return True\n",
    "\n",
    "num = int(input(\"Enter a number: \"))\n",
    "x = Primechecker(num)\n",
    "is_prime = x.is_prime()\n",
    "if is_prime:\n",
    "    print(num, \"is a prime number.\")\n",
    "else:\n",
    "    print(num, \"is not a prime number.\")"
   ]
  },
  {
   "cell_type": "code",
   "execution_count": 15,
   "id": "189c2d03",
   "metadata": {},
   "outputs": [
    {
     "name": "stdout",
     "output_type": "stream",
     "text": [
      "hello world\n"
     ]
    }
   ],
   "source": [
    "class Data: \n",
    "      def function(self):\n",
    "        print(\"hello world\")\n",
    "var = Data()  \n",
    "var.function()"
   ]
  },
  {
   "cell_type": "code",
   "execution_count": 31,
   "id": "7e8a5487",
   "metadata": {},
   "outputs": [
    {
     "name": "stdout",
     "output_type": "stream",
     "text": [
      "Enter a number: 5\n",
      "The factorial of 5 is 120\n"
     ]
    }
   ],
   "source": [
    "class FactorialCalculator:\n",
    "    def calculate_factorial(self, number):\n",
    "        if number == 0:\n",
    "            return 1\n",
    "        else:\n",
    "            return number * self.calculate_factorial(number - 1)\n",
    "\n",
    "\n",
    "calculator = FactorialCalculator()\n",
    "number = int(input(\"Enter a number: \"))\n",
    "factorial = calculator.calculate_factorial(number)\n",
    "print(\"The factorial of\", number, \"is\", factorial)"
   ]
  }
 ],
 "metadata": {
  "kernelspec": {
   "display_name": "Python 3 (ipykernel)",
   "language": "python",
   "name": "python3"
  },
  "language_info": {
   "codemirror_mode": {
    "name": "ipython",
    "version": 3
   },
   "file_extension": ".py",
   "mimetype": "text/x-python",
   "name": "python",
   "nbconvert_exporter": "python",
   "pygments_lexer": "ipython3",
   "version": "3.10.9"
  }
 },
 "nbformat": 4,
 "nbformat_minor": 5
}
