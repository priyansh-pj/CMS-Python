{
 "cells": [
  {
   "cell_type": "code",
   "execution_count": 4,
   "id": "9cab8dbb",
   "metadata": {},
   "outputs": [
    {
     "name": "stdout",
     "output_type": "stream",
     "text": [
      "1\n",
      "<class 'int'>\n",
      "2.5\n",
      "<class 'float'>\n",
      "pranjal\n",
      "<class 'str'>\n",
      "['apple', 'cherry', 1]\n",
      "<class 'list'>\n",
      "{1, 2, 3}\n",
      "<class 'set'>\n",
      "('herry', 'pranjal')\n",
      "<class 'tuple'>\n",
      "{'name': 'pranjal', 'branch': 'CSE-IML', 'semester': 4}\n",
      "<class 'dict'>\n",
      "(3+7j)\n",
      "<class 'complex'>\n",
      "Hello-World\n"
     ]
    }
   ],
   "source": [
    "var_a =1\n",
    "print(var_a)\n",
    "print(type(var_a))\n",
    "b = 2.5\n",
    "print(b)\n",
    "print(type(b))\n",
    "c = \"pranjal\"\n",
    "print(c)\n",
    "print(type(c))\n",
    "d = [\"apple\",\"cherry\",1]\n",
    "print(d)\n",
    "print(type(d))\n",
    "g = {1,2,3}\n",
    "print(g)\n",
    "print(type(g))\n",
    "f = (\"herry\",\"pranjal\")\n",
    "print(f)\n",
    "print(type(f))\n",
    "r = {\"name\":\"pranjal\",\n",
    "     \"branch\":\"CSE-IML\",\"semester\": 4}\n",
    "print(r)\n",
    "print(type(r))\n",
    "x =3+7j\n",
    "print(x)\n",
    "print(type(x))\n",
    "print(\"Hello\",end=\"-\")\n",
    "print(\"World\")\n"
   ]
  },
  {
   "cell_type": "code",
   "execution_count": 5,
   "id": "ea23991e",
   "metadata": {},
   "outputs": [
    {
     "name": "stdout",
     "output_type": "stream",
     "text": [
      "b is greater\n"
     ]
    }
   ],
   "source": [
    "a = 3\n",
    "b = 4\n",
    "if 3<4:\n",
    "  print(\"b is greater\")\n",
    "else:\n",
    " print(\"a is greater\")"
   ]
  },
  {
   "cell_type": "code",
   "execution_count": 6,
   "id": "d3a29cc0",
   "metadata": {},
   "outputs": [
    {
     "name": "stdout",
     "output_type": "stream",
     "text": [
      "enter element of list3\n",
      "entr element:1\n",
      "entr element:2\n",
      "entr element:3\n",
      "largest element is : 3\n",
      "smallest element is : 1\n"
     ]
    }
   ],
   "source": [
    "b = []\n",
    "a = int(input(\"enter element of list\"))\n",
    "for i in range(1,a + 1):\n",
    "  ele = int(input(\"entr element:\"))\n",
    "  b.append(ele)\n",
    "print(\"largest element is :\",max(b))\n",
    "print(\"smallest element is :\",min(b))"
   ]
  },
  {
   "cell_type": "markdown",
   "id": "bcb51462",
   "metadata": {},
   "source": [
    "# count vowels in word"
   ]
  },
  {
   "cell_type": "code",
   "execution_count": 9,
   "id": "03b42293",
   "metadata": {},
   "outputs": [
    {
     "name": "stdout",
     "output_type": "stream",
     "text": [
      "Enter the string :aioue\n",
      "Total vowels are :5\n"
     ]
    }
   ],
   "source": [
    "String = input('Enter the string :')\n",
    "count = 0\n",
    "String = String.lower()\n",
    "for i in String:\n",
    "    if i == 'a' or i == 'e' or i == 'i' or i == 'o' or i == 'u':\n",
    "        count+=1\n",
    "if count == 0:\n",
    "    print('No vowels found')\n",
    "else:\n",
    "    print('Total vowels are :' + str(count))"
   ]
  },
  {
   "cell_type": "markdown",
   "id": "8912aab4",
   "metadata": {},
   "source": [
    "# Resvers string"
   ]
  },
  {
   "cell_type": "code",
   "execution_count": 10,
   "id": "7d8af027",
   "metadata": {
    "scrolled": true
   },
   "outputs": [
    {
     "name": "stdout",
     "output_type": "stream",
     "text": [
      "enter string:pranjal\n",
      "lajnarp\n"
     ]
    }
   ],
   "source": [
    "txt = input(\"enter string:\")\n",
    "print(txt [::-1])\n"
   ]
  },
  {
   "cell_type": "markdown",
   "id": "014b6a93",
   "metadata": {},
   "source": [
    "# check prime no."
   ]
  },
  {
   "cell_type": "code",
   "execution_count": 11,
   "id": "1a9a2ce8",
   "metadata": {
    "scrolled": true
   },
   "outputs": [
    {
     "name": "stdout",
     "output_type": "stream",
     "text": [
      "enter the no.7\n",
      "7 is a prime number\n"
     ]
    }
   ],
   "source": [
    "num =int(input(\"enter the no.\"))\n",
    "# If given number is greater than 1\n",
    "if num > 1:\n",
    "    # Iterate from 2 to n / 2\n",
    "    for i in range(2, int(num/2)+1):\n",
    "        # If num is divisible by any number between\n",
    "        # 2 and n / 2, it is not prime\n",
    "        if (num % i) == 0:\n",
    "            print(num, \"is not a prime number\")\n",
    "            break\n",
    "    else:\n",
    "        print(num, \"is a prime number\")\n",
    "else:\n",
    "    print(num, \"is not a prime number\")"
   ]
  },
  {
   "cell_type": "markdown",
   "id": "8a4f654d",
   "metadata": {},
   "source": [
    "# check factorial"
   ]
  },
  {
   "cell_type": "code",
   "execution_count": 18,
   "id": "d78a7277",
   "metadata": {},
   "outputs": [
    {
     "name": "stdout",
     "output_type": "stream",
     "text": [
      "Enter a number: 5\n",
      "The factorial of 5 is 120\n",
      "None\n"
     ]
    }
   ],
   "source": [
    "def factorial():\n",
    "    factorial = 1    \n",
    "    if num < 0:    \n",
    "        print(\" Factorial does not exist for negative numbers\")    \n",
    "    elif num == 0:    \n",
    "        print(\"The factorial of 0 is 1\")    \n",
    "    else:    \n",
    "        for i in range(1,num + 1):    \n",
    "            factorial = factorial*i    \n",
    "        print(\"The factorial of\",num,\"is\",factorial)\n",
    "num = int(input(\"Enter a number: \"))    \n",
    "print(factorial())"
   ]
  },
  {
   "cell_type": "markdown",
   "id": "41d242d0",
   "metadata": {},
   "source": [
    "# ramdom no."
   ]
  },
  {
   "cell_type": "code",
   "execution_count": 25,
   "id": "e7277600",
   "metadata": {},
   "outputs": [
    {
     "name": "stdout",
     "output_type": "stream",
     "text": [
      "random number: 23\n"
     ]
    }
   ],
   "source": [
    "import random\n",
    "random_number = random.randint(1,50)\n",
    "print(\"random number:\",random_number)\n"
   ]
  },
  {
   "cell_type": "markdown",
   "id": "540eb3f1",
   "metadata": {},
   "source": [
    "# programe by defining the function"
   ]
  },
  {
   "cell_type": "code",
   "execution_count": null,
   "id": "fd64f1fe",
   "metadata": {},
   "outputs": [],
   "source": [
    "def count_vowels(String):\n",
    "    count = 0\n",
    "    String = String.lower()\n",
    "    for i in String:\n",
    "        if i == 'a' or i == 'e' or i == 'i' or i == 'o' or i == 'u':\n",
    "            count+=1\n",
    "    if count == 0:\n",
    "        return 'No vowels found'\n",
    "    else:\n",
    "        return 'Total vowels are :' + str(count)\n",
    "String = input('Enter the string :')\n",
    "\n",
    "print(count_vowels(String))\n",
    "def resvers():\n",
    "\n",
    "    return (txt [::-1])\n",
    "txt = input(\"enter string:\")\n",
    "print(resvers())\n",
    "\n",
    "def prime():\n",
    "# If given number is greater than 1\n",
    "    if num > 1:\n",
    "        # Iterate from 2 to n / 2\n",
    "        for i in range(2, int(num/2)+1):\n",
    "            # If num is divisible by any number between\n",
    "            # 2 and n / 2, it is not prime\n",
    "            if (num % i) == 0:\n",
    "                return(num, \"is not a prime number\")\n",
    "                break\n",
    "        else:\n",
    "            print(num, \"is a prime number\")\n",
    "    else:\n",
    "        return(num, \"is not a prime number\")\n",
    "num =int(input(\"enter the no.\"))\n",
    "prime()\n",
    "\n",
    "def factorial():\n",
    "    factorial = 1    \n",
    "    if num < 0:    \n",
    "        return(\" Factorial does not exist for negative numbers\")    \n",
    "    elif num == 0:    \n",
    "        return(\"The factorial of 0 is 1\")    \n",
    "    else:    \n",
    "        for i in range(1,num + 1):    \n",
    "            factorial = factorial*i    \n",
    "        print(\"The factorial of\",num,\"is\",factorial)\n",
    "num = int(input(\"Enter a number: \"))    \n",
    "print(factorial())\n",
    "\n",
    "import random\n",
    "# Generate a random number between 1 and 5\n",
    "secret_number = random.randint(1, 5)\n",
    "attempts = 0\n",
    "def guess_number(secret_number):\n",
    "    print(\"I have chosen a number between 1 and 5.\")\n",
    "print(\"Can you guess it?\")\n",
    "while True:\n",
    "        guess = int(input(\"Enter your guess: \"))\n",
    "        attempts += 1\n",
    "\n",
    "        if guess == secret_number:\n",
    "            print(\"Congratulations! You guessed the number\", secret_number, \"in\", attempts, \"attempts.\")\n",
    "            break\n",
    "        elif guess < secret_number:\n",
    "            print(\"Too low. Try again.\")\n",
    "        else:\n",
    "            print(\"Too high. Try again.\")\n",
    "\n",
    "guess_number(secret_number)\n",
    "    \n"
   ]
  },
  {
   "cell_type": "code",
   "execution_count": 32,
   "id": "09daf850",
   "metadata": {},
   "outputs": [
    {
     "name": "stdout",
     "output_type": "stream",
     "text": [
      "Enter the string :pranjal\n",
      "number of vowels: 2\n"
     ]
    }
   ],
   "source": [
    "class Vowels_count:\n",
    "    def __init__(self,string):\n",
    "        self.string = string.lower()\n",
    "        self.vowels = ['a','e','i','o','u']\n",
    "    def count(self):\n",
    "            count = 0\n",
    "            for i in self.string:\n",
    "                if i in self.vowels:\n",
    "                    count+=1  \n",
    "            return count\n",
    "string=input('Enter the string :')\n",
    "counter=Vowels_count(string) \n",
    "count=counter.count()\n",
    "print(\"number of vowels:\",count)"
   ]
  },
  {
   "cell_type": "code",
   "execution_count": 6,
   "id": "9a7de838",
   "metadata": {},
   "outputs": [
    {
     "name": "stdout",
     "output_type": "stream",
     "text": [
      "enter string:pranjal\n",
      "reverse string is : lajnarp\n"
     ]
    }
   ],
   "source": [
    "class Resver :\n",
    "    def __init__(self,input_1):\n",
    "        self.input_1 = input_1\n",
    "    def stringreverse(self):\n",
    "        return(txt [::-1])\n",
    "txt = input(\"enter string:\")\n",
    "x = Resver(txt)\n",
    "y = x.stringreverse()\n",
    "print(\"reverse string is :\",y)"
   ]
  },
  {
   "cell_type": "code",
   "execution_count": 28,
   "id": "d52d74b4",
   "metadata": {},
   "outputs": [
    {
     "name": "stdout",
     "output_type": "stream",
     "text": [
      "enter the no.9\n",
      "9 is not a prime number\n"
     ]
    }
   ],
   "source": [
    "class prime_number:\n",
    "    def __init__(self,number):\n",
    "        self.number = number\n",
    "    def is_prime(self):\n",
    "        if self.number <= 1:\n",
    "            return False\n",
    "        for i in range(2, int(self.number/2)+1):\n",
    "            if self.number % i == 0:\n",
    "                return False\n",
    "        return True\n",
    "num =int(input(\"enter the no.\"))\n",
    "a = prime_number(num)\n",
    "b = a.is_prime()\n",
    "if b:\n",
    "    print(num, \"is a prime number\")\n",
    "else:\n",
    "    print(num, \"is not a prime number\")\n",
    "                \n",
    "        "
   ]
  },
  {
   "cell_type": "code",
   "execution_count": 29,
   "id": "74f6439f",
   "metadata": {},
   "outputs": [
    {
     "name": "stdout",
     "output_type": "stream",
     "text": [
      "John\n",
      "36\n"
     ]
    }
   ],
   "source": [
    "\n",
    "class Person:\n",
    "    def __init__(self, name, age):\n",
    "        self.name = name\n",
    "        self.age = age\n",
    "\n",
    "p1 = Person(\"John\", 36)\n",
    "\n",
    "print(p1.name)\n",
    "print(p1.age) "
   ]
  },
  {
   "cell_type": "code",
   "execution_count": 31,
   "id": "32c8cd3c",
   "metadata": {},
   "outputs": [
    {
     "name": "stdout",
     "output_type": "stream",
     "text": [
      "Hello my name is John\n"
     ]
    }
   ],
   "source": [
    "class Person:\n",
    "    def __init__(ob_a, name, age):\n",
    "        ob_a.name = name\n",
    "        ob_a.age = age\n",
    "\n",
    "    def myfunc(abc):\n",
    "        print(\"Hello my name is \" + abc.name)\n",
    "\n",
    "p1 = Person(\"John\", 36)\n",
    "p1.myfunc()"
   ]
  }
 ],
 "metadata": {
  "kernelspec": {
   "display_name": "Python 3 (ipykernel)",
   "language": "python",
   "name": "python3"
  },
  "language_info": {
   "codemirror_mode": {
    "name": "ipython",
    "version": 3
   },
   "file_extension": ".py",
   "mimetype": "text/x-python",
   "name": "python",
   "nbconvert_exporter": "python",
   "pygments_lexer": "ipython3",
   "version": "3.10.9"
  }
 },
 "nbformat": 4,
 "nbformat_minor": 5
}
